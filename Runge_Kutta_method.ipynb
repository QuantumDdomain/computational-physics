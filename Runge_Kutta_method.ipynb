{
 "cells": [
  {
   "cell_type": "code",
   "execution_count": null,
   "id": "0cf69df9",
   "metadata": {},
   "outputs": [],
   "source": [
    "import matplotlib.pyplot as plt"
   ]
  },
  {
   "cell_type": "markdown",
   "id": "862d90eb",
   "metadata": {},
   "source": [
    "$$\n",
    "\\frac{dy}{dx} = 2y/x\n",
    "$$"
   ]
  },
  {
   "cell_type": "code",
   "execution_count": 5,
   "id": "29a8d3f8",
   "metadata": {},
   "outputs": [],
   "source": [
    "f1 = lambda x,y : (2*y / x)\n",
    "x1 = 2"
   ]
  },
  {
   "cell_type": "markdown",
   "id": "e2cbb8b6",
   "metadata": {},
   "source": [
    "$$\n",
    "\\frac{dy}{dx} = 3x^2y \n",
    "$$"
   ]
  },
  {
   "cell_type": "code",
   "execution_count": 6,
   "id": "3ec6e762",
   "metadata": {},
   "outputs": [],
   "source": [
    "f2 = lambda x,y : 3*(x**2)*y\n",
    "x2 = 3"
   ]
  },
  {
   "cell_type": "markdown",
   "id": "f6fdc915",
   "metadata": {},
   "source": [
    "$Second$ $Order$ $Runge$-$Kutta$ $Method$ 🧮"
   ]
  },
  {
   "cell_type": "code",
   "execution_count": 7,
   "id": "ec91feec",
   "metadata": {},
   "outputs": [],
   "source": [
    "def second_order_runge_kutta_method(f ,X ,x_0 ,y_0 ,h ):\n",
    "    x_i = x_0\n",
    "    y_i = y_0\n",
    "    n = int ((X - x_0)/h)\n",
    "    for i in range(n):\n",
    "        temp = y_i\n",
    "        k1 = h*f(x_i ,temp)\n",
    "        y_i += k1\n",
    "        x_i += h\n",
    "        k2 = h*f(x_i ,y_i)\n",
    "        y_i = temp + ((k1 + k2) /2)\n",
    "    \n",
    "    y = y_i\n",
    "    return y   "
   ]
  },
  {
   "cell_type": "code",
   "execution_count": 8,
   "id": "116bb31b",
   "metadata": {},
   "outputs": [
    {
     "name": "stdout",
     "output_type": "stream",
     "text": [
      "y1_x1 =  7.973351651888478\n"
     ]
    }
   ],
   "source": [
    "print(\"y1_x1 = \",second_order_runge_kutta_method(f1 ,x1 ,1 ,2 ,0.1))"
   ]
  },
  {
   "cell_type": "markdown",
   "id": "1c400da3",
   "metadata": {},
   "source": [
    "$Runge$-$Kutta$ $Method$ 🧮"
   ]
  },
  {
   "cell_type": "code",
   "execution_count": 9,
   "id": "fb096f96",
   "metadata": {},
   "outputs": [],
   "source": [
    "def runge_kutta_method(f ,X ,x_0 ,y_0 ,h ,parameter ):\n",
    "    x_i = x_0\n",
    "    y_i = y_0\n",
    "    alpha = parameter\n",
    "    beta = alpha\n",
    "    w2 = 1 / alpha\n",
    "    w1 = 2 - w2\n",
    "    n = int ((X - x_0)/h)\n",
    "    for j in range(n):\n",
    "        temp = y_i \n",
    "        k1 = h * f(x_i, temp)\n",
    "        k2 = h * f(x_i + alpha * h, temp + beta * k1)\n",
    "        y_i = temp + ((w1 * k1 + w2 * k2)/2)\n",
    "        x_i += h\n",
    "    \n",
    "    y = y_i\n",
    "    return y   "
   ]
  },
  {
   "cell_type": "code",
   "execution_count": 10,
   "id": "4fade0a2",
   "metadata": {},
   "outputs": [
    {
     "name": "stdout",
     "output_type": "stream",
     "text": [
      "y1_x1 =  7.973351651888478\n"
     ]
    }
   ],
   "source": [
    "print(\"y1_x1 = \",runge_kutta_method(f1 ,x1 ,1 ,2 ,0.1 ,1))"
   ]
  },
  {
   "cell_type": "code",
   "execution_count": 11,
   "id": "7fdd55db",
   "metadata": {},
   "outputs": [
    {
     "name": "stdout",
     "output_type": "stream",
     "text": [
      "y2_x2 for h = 0.01 is  171448891863.35745\n"
     ]
    }
   ],
   "source": [
    "print(\"y2_x2 for h = 0.01 is \",runge_kutta_method(f2 ,x2 ,1 ,1 ,0.01 ,0.2))"
   ]
  },
  {
   "cell_type": "markdown",
   "id": "301a523a",
   "metadata": {},
   "source": [
    "$Third$ $Order$ $Runge$-$Kutta$ $Method$ 🧮"
   ]
  },
  {
   "cell_type": "code",
   "execution_count": 12,
   "id": "10cf7e28",
   "metadata": {},
   "outputs": [],
   "source": [
    "def third_order_runge_kutta_method(f ,X ,x_0 ,y_0 ,h ):\n",
    "    x_i = x_0\n",
    "    y_i = y_0\n",
    "    n = int ((X - x_0)/h)\n",
    "    for j in range(n):\n",
    "        k1 = h * f(x_i, y_i)\n",
    "        k2 = h * f(x_i + h/2, y_i + k1/2)\n",
    "        k3 = h * f(x_i + h, y_i - k1 + 2*k2)\n",
    "        y_i += ((k1 + 4 * k2 + k3)/6)\n",
    "        x_i += h\n",
    "    \n",
    "    y = y_i\n",
    "    return y   "
   ]
  },
  {
   "cell_type": "code",
   "execution_count": 13,
   "id": "9083f7d6",
   "metadata": {},
   "outputs": [
    {
     "name": "stdout",
     "output_type": "stream",
     "text": [
      "y2_x2 for h = 0.01 is  194523134872.2964\n"
     ]
    }
   ],
   "source": [
    "print(\"y2_x2 for h = 0.01 is \",third_order_runge_kutta_method(f2 ,x2 ,1 ,1 ,0.01 ))"
   ]
  },
  {
   "cell_type": "markdown",
   "id": "a8d93060",
   "metadata": {},
   "source": [
    "$Fourth$ $Order$ $Runge$-$Kutta$ $Method$ 🧮"
   ]
  },
  {
   "cell_type": "code",
   "execution_count": 14,
   "id": "e3841c72",
   "metadata": {},
   "outputs": [],
   "source": [
    "def fourth_order_runge_kutta_method(f ,X ,x_0 ,y_0 ,h ):\n",
    "    x_i = x_0\n",
    "    y_i = y_0\n",
    "    x_values = [x_i]\n",
    "    y_values = [y_i]\n",
    "    n = int ((X - x_0)/h)\n",
    "    for j in range(n):\n",
    "        k1 = h * f(x_i, y_i)\n",
    "        k2 = h * f(x_i + h/2, y_i + k1/2)\n",
    "        k3 = h * f(x_i + h/2, y_i + k2/2)\n",
    "        k4 = h * f(x_i + h, y_i + k3)\n",
    "        y_i += ((k1 + 2 * (k2 + k3) + k4)/6)\n",
    "        x_i += h\n",
    "\n",
    "        x_values.append(x_i)\n",
    "        y_values.append(y_i)\n",
    "    y = y_i\n",
    "    \n",
    "    return x_values, y_values ,y"
   ]
  },
  {
   "cell_type": "code",
   "execution_count": 15,
   "id": "3b778eea",
   "metadata": {},
   "outputs": [
    {
     "name": "stdout",
     "output_type": "stream",
     "text": [
      "y2_x2 for h = 0.01 is  195676789162.9823\n"
     ]
    }
   ],
   "source": [
    "result = fourth_order_runge_kutta_method(f2 ,x2 ,1 ,1 ,0.01 )\n",
    "print(\"y2_x2 for h = 0.01 is \",result[2])"
   ]
  },
  {
   "cell_type": "code",
   "execution_count": 16,
   "id": "811674cd",
   "metadata": {},
   "outputs": [
    {
     "data": {
      "image/png": "[encoded data removed]",
      "text/plain": [
       "<Figure size 640x480 with 1 Axes>"
      ]
     },
     "metadata": {},
     "output_type": "display_data"
    }
   ],
   "source": [
    "x_vals, y_vals,_ = fourth_order_runge_kutta_method(f2, x2, 1, 1, 0.01)\n",
    "# Plot the result\n",
    "plt.plot(x_vals, y_vals, label='RK4 Approximation', color='purple')\n",
    "plt.xlabel('x')\n",
    "plt.ylabel('y')\n",
    "plt.title('Solution of dy/dx = 3(x**2)y using RK4')\n",
    "plt.grid(True)\n",
    "plt.legend()\n",
    "plt.show()\n"
   ]
  },
  {
   "cell_type": "code",
   "execution_count": null,
   "id": "69fda836",
   "metadata": {},
   "outputs": [],
   "source": []
  }
 ],
 "metadata": {
  "kernelspec": {
   "display_name": "Python 3",
   "language": "python",
   "name": "python3"
  },
  "language_info": {
   "codemirror_mode": {
    "name": "ipython",
    "version": 3
   },
   "file_extension": ".py",
   "mimetype": "text/x-python",
   "name": "python",
   "nbconvert_exporter": "python",
   "pygments_lexer": "ipython3",
   "version": "3.13.1"
  }
 },
 "nbformat": 4,
 "nbformat_minor": 5
}
