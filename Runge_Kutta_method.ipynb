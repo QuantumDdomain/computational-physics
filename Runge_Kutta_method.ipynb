{
 "cells": [
  {
   "cell_type": "code",
   "execution_count": 3,
   "id": "0cf69df9",
   "metadata": {},
   "outputs": [],
   "source": [
    "import numpy as np\n",
    "import math"
   ]
  },
  {
   "cell_type": "markdown",
   "id": "862d90eb",
   "metadata": {},
   "source": [
    "$$\n",
    "\\frac{dy}{dx} = 2y/x\n",
    "$$"
   ]
  },
  {
   "cell_type": "code",
   "execution_count": 4,
   "id": "29a8d3f8",
   "metadata": {},
   "outputs": [],
   "source": [
    "f1 = lambda x,y : (2*y / x)\n",
    "x1 = 2"
   ]
  },
  {
   "cell_type": "markdown",
   "id": "e2cbb8b6",
   "metadata": {},
   "source": [
    "$$\n",
    "\\frac{dy}{dx} = 3x^2y \n",
    "$$"
   ]
  },
  {
   "cell_type": "code",
   "execution_count": 5,
   "id": "3ec6e762",
   "metadata": {},
   "outputs": [],
   "source": [
    "f3 = lambda x,y : 3*(x**2)*y\n",
    "x3 = 3"
   ]
  },
  {
   "cell_type": "markdown",
   "id": "f6fdc915",
   "metadata": {},
   "source": [
    "$Second$ $Order$ $Runge$-$Kutta$ $Method$ "
   ]
  },
  {
   "cell_type": "code",
   "execution_count": 6,
   "id": "ec91feec",
   "metadata": {},
   "outputs": [],
   "source": [
    "def second_order_runge_kutta_method(f ,X ,x_0 ,y_0 ,h ):\n",
    "    x_i = x_0\n",
    "    y_i = y_0\n",
    "    n = int ((X - x_0)/h)\n",
    "    for i in range(n):\n",
    "        temp = y_i\n",
    "        k1 = h*f(x_i ,temp)\n",
    "        y_i += k1\n",
    "        x_i += h\n",
    "        k2 = h*f(x_i ,y_i)\n",
    "        y_i = temp + ((k1 + k2) /2)\n",
    "    \n",
    "    y = y_i\n",
    "    return y   "
   ]
  },
  {
   "cell_type": "code",
   "execution_count": 7,
   "id": "116bb31b",
   "metadata": {},
   "outputs": [
    {
     "name": "stdout",
     "output_type": "stream",
     "text": [
      "y1_x1 =  7.973351651888478\n"
     ]
    }
   ],
   "source": [
    "print(\"y1_x1 = \",second_order_runge_kutta_method(f1 ,x1 ,1 ,2 ,0.1))"
   ]
  },
  {
   "cell_type": "markdown",
   "id": "1c400da3",
   "metadata": {},
   "source": [
    "$Runge$-$Kutta$ $Method$"
   ]
  },
  {
   "cell_type": "code",
   "execution_count": 8,
   "id": "fb096f96",
   "metadata": {},
   "outputs": [],
   "source": [
    "def runge_kutta_method(f ,X ,x_0 ,y_0 ,h ,parameter ):\n",
    "    x_i = x_0\n",
    "    y_i = y_0\n",
    "    alpha = parameter\n",
    "    beta = alpha\n",
    "    w2 = 1 / alpha\n",
    "    w1 = 2 - w2\n",
    "    n = int ((X - x_0)/h)\n",
    "    for j in range(n):\n",
    "        temp = y_i \n",
    "        k1 = h * f(x_i, temp)\n",
    "        k2 = h * f(x_i + alpha * h, temp + beta * k1)\n",
    "        y_i = temp + ((w1 * k1 + w2 * k2)/2)\n",
    "        x_i += h\n",
    "    \n",
    "    y = y_i\n",
    "    return y   "
   ]
  },
  {
   "cell_type": "code",
   "execution_count": 9,
   "id": "4fade0a2",
   "metadata": {},
   "outputs": [
    {
     "name": "stdout",
     "output_type": "stream",
     "text": [
      "y1_x1 =  7.973351651888478\n"
     ]
    }
   ],
   "source": [
    "print(\"y1_x1 = \",runge_kutta_method(f1 ,x1 ,1 ,2 ,0.1 ,1))"
   ]
  },
  {
   "cell_type": "code",
   "execution_count": 13,
   "id": "7fdd55db",
   "metadata": {},
   "outputs": [
    {
     "name": "stdout",
     "output_type": "stream",
     "text": [
      "y3_x3 for h = 0.01 is  171448891863.35745\n"
     ]
    }
   ],
   "source": [
    "print(\"y3_x3 for h = 0.01 is \",runge_kutta_method(f3 ,x3 ,1 ,1 ,0.01 ,0.2))"
   ]
  },
  {
   "cell_type": "code",
   "execution_count": null,
   "id": "10cf7e28",
   "metadata": {},
   "outputs": [],
   "source": []
  }
 ],
 "metadata": {
  "kernelspec": {
   "display_name": "Python 3",
   "language": "python",
   "name": "python3"
  },
  "language_info": {
   "codemirror_mode": {
    "name": "ipython",
    "version": 3
   },
   "file_extension": ".py",
   "mimetype": "text/x-python",
   "name": "python",
   "nbconvert_exporter": "python",
   "pygments_lexer": "ipython3",
   "version": "3.13.1"
  }
 },
 "nbformat": 4,
 "nbformat_minor": 5
}
