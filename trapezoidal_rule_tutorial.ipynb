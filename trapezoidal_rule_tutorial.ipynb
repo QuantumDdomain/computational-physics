{
 "cells": [
  {
   "cell_type": "code",
   "execution_count": 8,
   "metadata": {},
   "outputs": [],
   "source": [
    "import math\n",
    "pi = math.pi"
   ]
  },
  {
   "cell_type": "code",
   "execution_count": 9,
   "metadata": {},
   "outputs": [],
   "source": [
    "f1 = lambda x: x**3 + 1\n",
    "f2 = lambda x: 3*(x**2) + 2*x -5\n",
    "f3 = lambda x: math.exp(x)\n",
    "f4 = lambda x: 3*(math.cos(x)) + 5"
   ]
  },
  {
   "cell_type": "code",
   "execution_count": 10,
   "metadata": {},
   "outputs": [],
   "source": [
    "def error_estimation(exact, approx):\n",
    "    return (abs(exact - approx)*100)/(exact)"
   ]
  },
  {
   "cell_type": "code",
   "execution_count": 11,
   "metadata": {},
   "outputs": [],
   "source": [
    "def trapezoidal_rule(X_N ,X_0 ,N ,fn ):\n",
    "    h = float((X_N -X_0)/N)\n",
    "    sum = 0 \n",
    "    for i in range(N):\n",
    "        sum += ((fn(X_0 + i*h) + fn(X_0 + (i+1)*h))*h)/2\n",
    "    return sum    "
   ]
  },
  {
   "cell_type": "code",
   "execution_count": 12,
   "metadata": {},
   "outputs": [],
   "source": [
    "def truncation_error(X_N ,X_0 ,N ):\n",
    "    h = float((X_N -X_0)/N)\n",
    "    x = X_N\n",
    "    ET = ((h**3)*(3*(x**2))/12)\n",
    "    return ET"
   ]
  },
  {
   "cell_type": "code",
   "execution_count": 13,
   "metadata": {},
   "outputs": [
    {
     "name": "stdout",
     "output_type": "stream",
     "text": [
      "5.5\n",
      "Truncation error = +/- 1.0\n",
      "1.59375\n",
      "Truncation error = +/- 0.0703125\n"
     ]
    }
   ],
   "source": [
    "integral_1 = trapezoidal_rule(2, 1 , 1, f1)\n",
    "print(integral_1)\n",
    "Error_1 = truncation_error(2,1,1)\n",
    "print(\"Truncation error = +/-\",Error_1)\n",
    "integral_2 = trapezoidal_rule(1.5, 1 , 1, f1)\n",
    "print(integral_2)\n",
    "Error_2 = truncation_error(1.5,1,1)\n",
    "print(\"Truncation error = +/-\",Error_2)"
   ]
  },
  {
   "cell_type": "code",
   "execution_count": 14,
   "metadata": {},
   "outputs": [
    {
     "name": "stdout",
     "output_type": "stream",
     "text": [
      "3.0\n",
      "Error = 50.0\n",
      "2.25\n",
      "Error = 12.5\n"
     ]
    }
   ],
   "source": [
    "Exact_integral2 = 2.00000000000000\n",
    "\n",
    "integral2_1 = trapezoidal_rule(2, 0 , 2, f2)\n",
    "print(integral2_1)\n",
    "Error2_1 = error_estimation(Exact_integral2,integral2_1)\n",
    "print(\"Error =\",Error2_1)\n",
    "integral2_2 = trapezoidal_rule(2, 0 , 4, f2)\n",
    "print(integral2_2)\n",
    "Error2_2 = error_estimation(Exact_integral2,integral2_2)\n",
    "print(\"Error =\",Error2_2)"
   ]
  },
  {
   "cell_type": "code",
   "execution_count": 15,
   "metadata": {},
   "outputs": [
    {
     "name": "stdout",
     "output_type": "stream",
     "text": [
      "2.5430806348152437\n",
      "Error = 8.197670686932769\n",
      "2.3991662826140026\n",
      "Error = 2.0747041268400315\n"
     ]
    }
   ],
   "source": [
    "Exact_integral3 = 2.35040238728760\n",
    "\n",
    "integral3_1 = trapezoidal_rule(1, -1 , 2, f3)\n",
    "print(integral3_1)\n",
    "Error3_1 = error_estimation(Exact_integral3,integral3_1)\n",
    "print(\"Error =\",Error3_1)\n",
    "integral3_2 = trapezoidal_rule(1, -1 , 4, f3)\n",
    "print(integral3_2)\n",
    "Error3_2 = error_estimation(Exact_integral3,integral3_2)\n",
    "print(\"Error =\",Error3_2)"
   ]
  },
  {
   "cell_type": "code",
   "execution_count": 16,
   "metadata": {},
   "outputs": [
    {
     "name": "stdout",
     "output_type": "stream",
     "text": [
      "15.707963267948966\n",
      "Error = 2.1486413848109045e-13\n",
      "15.707963267948966\n",
      "Error = 2.1486413848109045e-13\n"
     ]
    }
   ],
   "source": [
    "Exact_integral4 = 15.7079632679490\n",
    "\n",
    "integral4_1 = trapezoidal_rule(pi, 0 , 2, f4)\n",
    "print(integral4_1)\n",
    "Error4_1 = error_estimation(Exact_integral4,integral4_1)\n",
    "print(\"Error =\",Error4_1)\n",
    "integral4_2 = trapezoidal_rule(pi, 0 , 4, f4)\n",
    "print(integral4_2)\n",
    "Error4_2 = error_estimation(Exact_integral4,integral4_2)\n",
    "print(\"Error =\",Error4_2)"
   ]
  },
  {
   "cell_type": "code",
   "execution_count": null,
   "metadata": {},
   "outputs": [],
   "source": []
  }
 ],
 "metadata": {
  "kernelspec": {
   "display_name": "Python 3",
   "language": "python",
   "name": "python3"
  },
  "language_info": {
   "codemirror_mode": {
    "name": "ipython",
    "version": 3
   },
   "file_extension": ".py",
   "mimetype": "text/x-python",
   "name": "python",
   "nbconvert_exporter": "python",
   "pygments_lexer": "ipython3",
   "version": "3.13.1"
  }
 },
 "nbformat": 4,
 "nbformat_minor": 2
}
