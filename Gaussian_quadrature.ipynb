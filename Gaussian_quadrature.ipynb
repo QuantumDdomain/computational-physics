{
 "cells": [
  {
   "cell_type": "code",
   "execution_count": 1,
   "metadata": {},
   "outputs": [],
   "source": [
    "import math\n",
    "import numpy as np \n",
    "pi = math.pi"
   ]
  },
  {
   "cell_type": "markdown",
   "metadata": {},
   "source": [
    "Gaussian Quadrature Taking $3$ weighting factor"
   ]
  },
  {
   "cell_type": "code",
   "execution_count": 20,
   "metadata": {},
   "outputs": [],
   "source": [
    "def gaussian_quadrature_3_weighting_factor(f, a, b):\n",
    "    W = np.zeros(3)\n",
    "    X = np.zeros(3)\n",
    "    W[0] = 5/18\n",
    "    W[1] = 5/18\n",
    "    W[2] = 8/18\n",
    "    X[0] = 1/2 + math.sqrt(15)/10\n",
    "    X[1] = 1/2 - math.sqrt(15)/10\n",
    "    X[2] = 1/2\n",
    "    sum = 0\n",
    "    for i in range(3):\n",
    "        sum += W[i] * f(X[i])\n",
    "    return (b - a)*sum    "
   ]
  },
  {
   "cell_type": "markdown",
   "metadata": {},
   "source": [
    "Gaussian Quadrature Taking $2$ weighting factor"
   ]
  },
  {
   "cell_type": "code",
   "execution_count": 21,
   "metadata": {},
   "outputs": [],
   "source": [
    "def gaussian_quadrature_2_weighting_factor(f, a, b):\n",
    "    W = np.zeros(2)\n",
    "    X = np.zeros(2)\n",
    "    W[0] = 1/2\n",
    "    W[1] = 1/2\n",
    "    X[0] = 1/2 + math.sqrt(3)/6\n",
    "    X[1] = 1/2 - math.sqrt(3)/6\n",
    "    sum = 0\n",
    "    for i in range(2):\n",
    "        sum += W[i] * f(X[i])\n",
    "    return (b - a)*sum    "
   ]
  },
  {
   "cell_type": "markdown",
   "metadata": {},
   "source": [
    "Gaussian Quadrature Taking $1$ weighting factor"
   ]
  },
  {
   "cell_type": "code",
   "execution_count": 22,
   "metadata": {},
   "outputs": [],
   "source": [
    "def gaussian_quadrature_1_weighting_factor(f, a, b):\n",
    "    W = 1\n",
    "    X = 1/2\n",
    "    sum = 0\n",
    "    sum += W * f(X)\n",
    "    return (b - a)*sum    "
   ]
  },
  {
   "cell_type": "code",
   "execution_count": 23,
   "metadata": {},
   "outputs": [],
   "source": [
    "a = float(input(\"Enter the value of a: \"))\n",
    "b = input(\"Enter the value of b: \")\n",
    "if b == 'pi':\n",
    "    b = math.pi\n",
    "else:\n",
    "    b = float(b)\n",
    "f = lambda x: 3*(math.cos(x)) + 5\n",
    "g = lambda x: f(a + x*(b - a))"
   ]
  },
  {
   "cell_type": "code",
   "execution_count": 24,
   "metadata": {},
   "outputs": [
    {
     "name": "stdout",
     "output_type": "stream",
     "text": [
      "Taking gaussian quadrature 1 weighting factor : 15.707963267948966\n",
      "Taking gaussian quadrature 2 weighting factor : 15.707963267948966\n",
      "Taking gaussian quadrature 3 weighting factor : 15.707963267948966\n"
     ]
    }
   ],
   "source": [
    "solution_1 = gaussian_quadrature_1_weighting_factor(g, a, b)\n",
    "print(\"Taking gaussian quadrature 1 weighting factor :\",solution_1)\n",
    "solution_2 = gaussian_quadrature_2_weighting_factor(g, a, b)\n",
    "print(\"Taking gaussian quadrature 2 weighting factor :\",solution_2)\n",
    "solution_3 = gaussian_quadrature_3_weighting_factor(g, a, b)\n",
    "print(\"Taking gaussian quadrature 3 weighting factor :\",solution_3)"
   ]
  }
 ],
 "metadata": {
  "kernelspec": {
   "display_name": "Python 3",
   "language": "python",
   "name": "python3"
  },
  "language_info": {
   "codemirror_mode": {
    "name": "ipython",
    "version": 3
   },
   "file_extension": ".py",
   "mimetype": "text/x-python",
   "name": "python",
   "nbconvert_exporter": "python",
   "pygments_lexer": "ipython3",
   "version": "3.13.1"
  }
 },
 "nbformat": 4,
 "nbformat_minor": 2
}
