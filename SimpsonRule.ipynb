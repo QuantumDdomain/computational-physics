{
 "cells": [
  {
   "cell_type": "code",
   "execution_count": 52,
   "metadata": {},
   "outputs": [],
   "source": [
    "import math\n",
    "PI = math.pi"
   ]
  },
  {
   "cell_type": "code",
   "execution_count": 53,
   "metadata": {},
   "outputs": [],
   "source": [
    "f1 = lambda x: 1/(1+x**2)\n",
    "f2 = lambda x: 1/x\n",
    "f3 = lambda x: (math.exp(x))/x\n",
    "f4 = lambda x: (math.cos(x))**2\n",
    "f5 = lambda x: math.sqrt(1 + 3*(math.cos(x))**2)"
   ]
  },
  {
   "cell_type": "code",
   "execution_count": 54,
   "metadata": {},
   "outputs": [],
   "source": [
    "def trapezoidal_rule(X_N ,X_0 ,N ,fn ):\n",
    "    h = float((X_N -X_0)/N)\n",
    "    sum = 0 \n",
    "    for i in range(N):\n",
    "        sum += ((fn(X_0 + i*h) + fn(X_0 + (i+1)*h))*h)/2\n",
    "    return sum    "
   ]
  },
  {
   "cell_type": "markdown",
   "metadata": {},
   "source": [
    "Simpson's $1/3$ Rule"
   ]
  },
  {
   "cell_type": "code",
   "execution_count": 55,
   "metadata": {},
   "outputs": [],
   "source": [
    "def simpsonI_rule(X_N ,X_0 ,N ,fn ) :\n",
    "    h = float((X_N -X_0)/N)\n",
    "    sum = 0 \n",
    "    for i in range(int(N/2)) :\n",
    "        # simpson's Rule\n",
    "        sum += h*((fn(X_0 + (2*i*h)))+ 4*(fn(X_0 + ((2*i)+1)*h))+(fn(X_0 + ((2*i)+2)*h)))/3        #simpson's Rule\n",
    "    return sum    "
   ]
  },
  {
   "cell_type": "code",
   "execution_count": 56,
   "metadata": {},
   "outputs": [
    {
     "name": "stdout",
     "output_type": "stream",
     "text": [
      "0.7851088117117127\n",
      "0.7853981600763449\n"
     ]
    }
   ],
   "source": [
    "integral_1 = trapezoidal_rule(1,0,12,f1)\n",
    "integral_2 = simpsonI_rule(1,0,12,f1)\n",
    "\n",
    "print(integral_1)\n",
    "print(integral_2)"
   ]
  },
  {
   "cell_type": "code",
   "execution_count": 57,
   "metadata": {},
   "outputs": [
    {
     "name": "stdout",
     "output_type": "stream",
     "text": [
      "1.0999999999999999\n",
      "3.0592391928396365\n",
      "1.429706445896045\n",
      "4.836954477189245\n"
     ]
    }
   ],
   "source": [
    "integral_3 = simpsonI_rule(3,1,4,f2)\n",
    "integral_4 = simpsonI_rule(2,1,4,f3)\n",
    "integral_5 = simpsonI_rule(3,0,6,f4)\n",
    "integral_6 = simpsonI_rule(PI,0,6,f5)\n",
    "\n",
    "print(integral_3)\n",
    "print(integral_4)\n",
    "print(integral_5)\n",
    "print(integral_6)"
   ]
  },
  {
   "cell_type": "markdown",
   "metadata": {},
   "source": [
    "Simpson's $3/8$ Rule"
   ]
  },
  {
   "cell_type": "code",
   "execution_count": 58,
   "metadata": {},
   "outputs": [],
   "source": [
    "def simpsonII_rule(X_N ,X_0 ,N,fn ):\n",
    "    h = float((X_N -X_0)/N)\n",
    "    sum = 0\n",
    "    for i in range (N) :\n",
    "        if (i % 3 == 0) :\n",
    "            sum += (3*h*((fn(X_0 + i*h))+ 3*(fn(X_0 + (i+1)*h))+ 3*(fn(X_0 + (i+2)*h))+ (fn(X_0 + (i+3)*h))))/8        #simpson's Rule\n",
    "    return sum"
   ]
  },
  {
   "cell_type": "code",
   "execution_count": 59,
   "metadata": {},
   "outputs": [
    {
     "name": "stdout",
     "output_type": "stream",
     "text": [
      "1.4290038183010605\n"
     ]
    }
   ],
   "source": [
    "integral_7 = simpsonII_rule(3,0,6,f4)\n",
    "print(integral_7)"
   ]
  },
  {
   "cell_type": "markdown",
   "metadata": {},
   "source": [
    "Simpson's $ 1/3 $ Rule Alternative Approach"
   ]
  },
  {
   "cell_type": "code",
   "execution_count": null,
   "metadata": {},
   "outputs": [],
   "source": [
    "def simpsonI_rule_alternative(X_N, X_0, N, fn):\n",
    "    if N % 2 != 0:\n",
    "        raise ValueError(\"N must be even for Simpson's Rule.\")  \n",
    "    h = float((X_N - X_0) / N)\n",
    "    sum = fn(X_0) + fn(X_N)  \n",
    "    for i in range(1, N): \n",
    "        x = X_0 + i * h\n",
    "        if i % 2 == 0:\n",
    "            sum += 2 * fn(x)  \n",
    "        else:\n",
    "            sum += 4 * fn(x)   \n",
    "    sum *= h / 3\n",
    "    return sum"
   ]
  },
  {
   "cell_type": "code",
   "execution_count": 61,
   "metadata": {},
   "outputs": [
    {
     "name": "stdout",
     "output_type": "stream",
     "text": [
      "1.429706445896045\n"
     ]
    }
   ],
   "source": [
    "integral_8 = simpsonI_rule_alternative(3,0,6,f4)\n",
    "print(integral_8)"
   ]
  }
 ],
 "metadata": {
  "kernelspec": {
   "display_name": "Python 3",
   "language": "python",
   "name": "python3"
  },
  "language_info": {
   "codemirror_mode": {
    "name": "ipython",
    "version": 3
   },
   "file_extension": ".py",
   "mimetype": "text/x-python",
   "name": "python",
   "nbconvert_exporter": "python",
   "pygments_lexer": "ipython3",
   "version": "3.13.1"
  }
 },
 "nbformat": 4,
 "nbformat_minor": 2
}
