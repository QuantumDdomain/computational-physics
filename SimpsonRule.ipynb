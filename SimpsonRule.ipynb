{
 "cells": [
  {
   "cell_type": "code",
   "execution_count": 21,
   "metadata": {},
   "outputs": [],
   "source": [
    "import math\n",
    "PI = math.pi"
   ]
  },
  {
   "cell_type": "code",
   "execution_count": 22,
   "metadata": {},
   "outputs": [],
   "source": [
    "f1 = lambda x: 1/(1+x**2)\n",
    "f2 = lambda x: 1/x\n",
    "f3 = lambda x: (math.exp(x))/x\n",
    "f4 = lambda x: (math.cos(x))**2\n",
    "f5 = lambda x: math.sqrt(1 + 3*(math.cos(x))**2)"
   ]
  },
  {
   "cell_type": "code",
   "execution_count": 23,
   "metadata": {},
   "outputs": [],
   "source": [
    "def trapezoidal_rule(X_N ,X_0 ,N ,fn ):\n",
    "    h = float((X_N -X_0)/N)\n",
    "    sum = 0 \n",
    "    for i in range(N):\n",
    "        sum += ((fn(X_0 + i*h) + fn(X_0 + (i+1)*h))*h)/2\n",
    "    return sum    "
   ]
  },
  {
   "cell_type": "code",
   "execution_count": 24,
   "metadata": {},
   "outputs": [],
   "source": [
    "def simpson_rule(X_N ,X_0 ,N ,fn ) :\n",
    "    h = float((X_N -X_0)/N)\n",
    "    sum = 0 \n",
    "    for i in range(int(N/2)) :\n",
    "        sum += h*((fn(X_0 + (2*i*h)))+ 4*(fn(X_0 + ((2*i)+1)*h))+(fn(X_0 + ((2*i)+2)*h)))/3\n",
    "    return sum    "
   ]
  },
  {
   "cell_type": "code",
   "execution_count": 25,
   "metadata": {},
   "outputs": [
    {
     "name": "stdout",
     "output_type": "stream",
     "text": [
      "0.782794117647059\n",
      "0.7853921568627451\n"
     ]
    }
   ],
   "source": [
    "integral_1 = trapezoidal_rule(1,0,4,f1)\n",
    "integral_2 = simpson_rule(1,0,4,f1)\n",
    "\n",
    "print(integral_1)\n",
    "print(integral_2)"
   ]
  },
  {
   "cell_type": "code",
   "execution_count": null,
   "metadata": {},
   "outputs": [
    {
     "name": "stdout",
     "output_type": "stream",
     "text": [
      "1.0999999999999999\n",
      "3.0592391928396365\n",
      "1.4301429480251404\n",
      "4.844224579368694\n"
     ]
    }
   ],
   "source": [
    "integral_3 = simpson_rule(3,1,4,f2)\n",
    "integral_4 = simpson_rule(2,1,4,f3)\n",
    "integral_5 = simpson_rule(3,0,6,f4)\n",
    "integral_6 = simpson_rule(PI,0,6,f5)\n",
    "\n",
    "print(integral_3)\n",
    "print(integral_4)\n",
    "print(integral_5)\n",
    "print(integral_6)"
   ]
  },
  {
   "cell_type": "code",
   "execution_count": null,
   "metadata": {},
   "outputs": [],
   "source": []
  }
 ],
 "metadata": {
  "kernelspec": {
   "display_name": "Python 3",
   "language": "python",
   "name": "python3"
  },
  "language_info": {
   "codemirror_mode": {
    "name": "ipython",
    "version": 3
   },
   "file_extension": ".py",
   "mimetype": "text/x-python",
   "name": "python",
   "nbconvert_exporter": "python",
   "pygments_lexer": "ipython3",
   "version": "3.13.1"
  }
 },
 "nbformat": 4,
 "nbformat_minor": 2
}
