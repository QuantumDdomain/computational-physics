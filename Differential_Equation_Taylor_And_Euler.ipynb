{
 "cells": [
  {
   "cell_type": "code",
   "execution_count": 2,
   "metadata": {},
   "outputs": [],
   "source": [
    "import math"
   ]
  },
  {
   "cell_type": "markdown",
   "metadata": {},
   "source": [
    "### $Differential$ $Equation$ $Using$ $Taylor’s$ $Series$ $Method$"
   ]
  },
  {
   "cell_type": "markdown",
   "metadata": {},
   "source": [
    "$f1 :$ $\\frac{dy}{dx} = x^2 + y^2$"
   ]
  },
  {
   "cell_type": "markdown",
   "metadata": {},
   "source": [
    "$f2 :$ $\\frac{dy}{dx} = x e^y$"
   ]
  },
  {
   "cell_type": "code",
   "execution_count": 3,
   "metadata": {},
   "outputs": [],
   "source": [
    "import numpy as np \n",
    "\n",
    "#f1 = y' - x^2 - y^2 = 0\n",
    "# y' = x^2 + y^2 \n",
    "# y'' = 2x + 2yy'\n",
    "# y''' = 2 + 2y'^2 + 2yy''\n",
    "\n",
    "#f2 = y' - xe^y = 0\n",
    "# y' = xe^y\n",
    "# y'' = xe^yy' + e^y\n",
    "# y''' = y'(xe^yy' + e^y) + xe^yy'' + e^yy'\n",
    "\n",
    "def taylor(x ,y ,h ,X ,f):\n",
    "    \n",
    "    while (x < X):\n",
    "\n",
    "        if (f == \"f1\"):\n",
    "            y = y + h*(x**2 + y**2) + h**2*(2*x + 2*y*(x**2 +y**2))/2 + h**3*(2 + 2*(x**2 +y**2)**2 + 2*y*(2*x + 2*y*(x**2 +y**2)))/6\n",
    "            x = x + h\n",
    "\n",
    "        if (f == \"f2\"):\n",
    "            y= y + h*(x*np.exp(y)) + h**2*(x*np.exp(y)*x*np.exp(y) + np.exp(y))/2 + h**3*((x*np.exp(y))*(x*np.exp(y)*x*np.exp(y) + np.exp(y)) + (x*np.exp(y))*(x*np.exp(y)*x*np.exp(y) + np.exp(y)) + np.exp(y)*(x*np.exp(y)))/6\n",
    "            x = x + h\n",
    "    return y\n"
   ]
  },
  {
   "cell_type": "code",
   "execution_count": 4,
   "metadata": {},
   "outputs": [
    {
     "name": "stdout",
     "output_type": "stream",
     "text": [
      "4.166666666666668e-05\n",
      "0.0003333341145842376\n",
      "0.0012500000000000002\n",
      "0.005010961303357373\n"
     ]
    }
   ],
   "source": [
    "print(taylor(0, 0, 0.05, 0.05,\"f1\" ))\n",
    "print(taylor(0, 0, 0.05, 0.1,\"f1\" ))\n",
    "\n",
    "print(taylor(0, 0, 0.05, 0.05,\"f2\" ))\n",
    "print(taylor(0, 0, 0.05, 0.1,\"f2\" ))"
   ]
  },
  {
   "cell_type": "markdown",
   "metadata": {},
   "source": [
    "# Differential Equation Using Euler’s Method (First-Order Runge-Kutta Method) 🧮\n"
   ]
  },
  {
   "cell_type": "markdown",
   "metadata": {},
   "source": [
    "$$\n",
    "\\frac{dy}{dx} = 3x^2y \n",
    "$$"
   ]
  },
  {
   "cell_type": "code",
   "execution_count": 5,
   "metadata": {},
   "outputs": [],
   "source": [
    "f3 = lambda x,y : 3*(x**2)*y\n",
    "x3 = 3"
   ]
  },
  {
   "cell_type": "markdown",
   "metadata": {},
   "source": [
    "$$\n",
    "\\frac{dy}{dx} = 2y/x\n",
    "$$"
   ]
  },
  {
   "cell_type": "code",
   "execution_count": 6,
   "metadata": {},
   "outputs": [],
   "source": [
    "f4 = lambda x,y : (2*y / x)\n",
    "x4 = 2"
   ]
  },
  {
   "cell_type": "code",
   "execution_count": 7,
   "metadata": {},
   "outputs": [],
   "source": [
    "def euler_method(f ,X ,x_0 ,y_0 ,h ):\n",
    "    x_i = x_0\n",
    "    y_i = y_0\n",
    "    n = int ((X - x_0)/h)\n",
    "    for i in range(n):\n",
    "        y_i += h*f(x_i ,y_i)\n",
    "        x_i += h\n",
    "    \n",
    "    y = y_i\n",
    "    return y   "
   ]
  },
  {
   "cell_type": "code",
   "execution_count": 8,
   "metadata": {},
   "outputs": [
    {
     "name": "stdout",
     "output_type": "stream",
     "text": [
      "Exact solution for y3 is 195729609428.83878\n",
      "y3_x3 for h = 0.01 is  25468220461.747562\n",
      "y3_x3 for h = 0.2 is 82647.9958816217\n",
      "y3_x3 for h = 0.5 is 794.3359375\n",
      "y3_x3 for h = 0.1 is  3995849.6117743105\n"
     ]
    }
   ],
   "source": [
    "print(\"Exact solution for y3 is\",195729609428.8387642697763978761)\n",
    "print(\"y3_x3 for h = 0.01 is \",euler_method(f3 ,x3 ,1 ,1 ,0.01))\n",
    "print(\"y3_x3 for h = 0.2 is\",euler_method(f3 ,x3 ,1 ,1 ,0.2))\n",
    "print(\"y3_x3 for h = 0.5 is\",euler_method(f3 ,x3 ,1 ,1 ,0.5))\n",
    "print(\"y3_x3 for h = 0.1 is \",euler_method(f3 ,x3 ,1 ,1 ,0.1))"
   ]
  },
  {
   "cell_type": "code",
   "execution_count": 9,
   "metadata": {},
   "outputs": [
    {
     "name": "stdout",
     "output_type": "stream",
     "text": [
      "y4_x4 =  7.636363636363635\n"
     ]
    }
   ],
   "source": [
    "print(\"y4_x4 = \",euler_method(f4 ,x4 ,1 ,2 ,0.1))"
   ]
  },
  {
   "cell_type": "markdown",
   "metadata": {},
   "source": [
    "$Modified$ $Euler's$ $Method$"
   ]
  },
  {
   "cell_type": "code",
   "execution_count": 10,
   "metadata": {},
   "outputs": [],
   "source": [
    "def modified_euler_method(f ,X ,x_0 ,y_0 ,h ):\n",
    "    x_i = x_0\n",
    "    y_i = y_0\n",
    "    n = int ((X - x_0)/h)\n",
    "    for i in range(n):\n",
    "        temp = y_i\n",
    "        A = f(x_i ,temp)\n",
    "        y_i += h*A\n",
    "        x_i += h\n",
    "        B = f(x_i ,y_i)\n",
    "        y_i = temp + ((A + B)*h /2)\n",
    "    \n",
    "    y = y_i\n",
    "    return y   "
   ]
  },
  {
   "cell_type": "markdown",
   "metadata": {},
   "source": [
    "$$\n",
    "\\frac{dy}{dx} = 2y/x\n",
    "$$"
   ]
  },
  {
   "cell_type": "code",
   "execution_count": 11,
   "metadata": {},
   "outputs": [
    {
     "name": "stdout",
     "output_type": "stream",
     "text": [
      "y4_x4 =  7.973351651888478\n"
     ]
    }
   ],
   "source": [
    "print(\"y4_x4 = \",modified_euler_method(f4 ,x4 ,1 ,2 ,0.1))"
   ]
  },
  {
   "cell_type": "code",
   "execution_count": 13,
   "metadata": {},
   "outputs": [
    {
     "name": "stdout",
     "output_type": "stream",
     "text": [
      "y3_x3 for h = 0.01 is  173554074454.69885\n"
     ]
    }
   ],
   "source": [
    "print(\"y3_x3 for h = 0.01 is \",modified_euler_method(f3 ,x3 ,1 ,1 ,0.01))"
   ]
  },
  {
   "cell_type": "code",
   "execution_count": null,
   "metadata": {},
   "outputs": [],
   "source": []
  }
 ],
 "metadata": {
  "kernelspec": {
   "display_name": "Python 3",
   "language": "python",
   "name": "python3"
  },
  "language_info": {
   "codemirror_mode": {
    "name": "ipython",
    "version": 3
   },
   "file_extension": ".py",
   "mimetype": "text/x-python",
   "name": "python",
   "nbconvert_exporter": "python",
   "pygments_lexer": "ipython3",
   "version": "3.13.1"
  }
 },
 "nbformat": 4,
 "nbformat_minor": 2
}
