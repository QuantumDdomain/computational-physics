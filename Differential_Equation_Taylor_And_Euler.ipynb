{
 "cells": [
  {
   "cell_type": "code",
   "execution_count": 39,
   "metadata": {},
   "outputs": [],
   "source": [
    "import math"
   ]
  },
  {
   "cell_type": "markdown",
   "metadata": {},
   "source": [
    "### $Differential$ $Equation$ $Using$ $Taylor’s$ $Series$ $Method$"
   ]
  },
  {
   "cell_type": "markdown",
   "metadata": {},
   "source": [
    " $\\frac{dy}{dx} = x^2 + y^2$"
   ]
  },
  {
   "cell_type": "markdown",
   "metadata": {},
   "source": [
    "Taylor Series upto $3rd$ Order"
   ]
  },
  {
   "cell_type": "code",
   "execution_count": 40,
   "metadata": {},
   "outputs": [],
   "source": [
    "f1 = lambda x:( x**3 / 3)  # first and second order term is 0"
   ]
  },
  {
   "cell_type": "markdown",
   "metadata": {},
   "source": [
    "$\\frac{dy}{dx} = x e^y$"
   ]
  },
  {
   "cell_type": "markdown",
   "metadata": {},
   "source": [
    "Taylor Series upto $3rd$ Order"
   ]
  },
  {
   "cell_type": "code",
   "execution_count": 41,
   "metadata": {},
   "outputs": [],
   "source": [
    "f2 = lambda x: ( x**2 / 2)  # first and third order term is 0"
   ]
  },
  {
   "cell_type": "code",
   "execution_count": 42,
   "metadata": {},
   "outputs": [
    {
     "name": "stdout",
     "output_type": "stream",
     "text": [
      "y1_x1 =  4.166666666666668e-05\n",
      "y1_x2 =  0.00033333333333333343\n",
      "y2_x1 =  0.0012500000000000002\n",
      "y2_x2 =  0.005000000000000001\n"
     ]
    }
   ],
   "source": [
    "x1 = 0.05\n",
    "x2 = 0.1\n",
    "\n",
    "print(\"y1_x1 = \",f1(x1))\n",
    "print(\"y1_x2 = \",f1(x2))\n",
    "print(\"y2_x1 = \",f2(x1))\n",
    "print(\"y2_x2 = \",f2(x2))"
   ]
  },
  {
   "cell_type": "markdown",
   "metadata": {},
   "source": [
    "### $Differential$ $Equation$ $Using$ $Euler’s$ $Method$"
   ]
  },
  {
   "cell_type": "markdown",
   "metadata": {},
   "source": [
    "$$\n",
    "\\frac{dy}{dx} = 3x^2y \n",
    "$$"
   ]
  },
  {
   "cell_type": "code",
   "execution_count": 43,
   "metadata": {},
   "outputs": [],
   "source": [
    "f3 = lambda x,y : 3*(x**2)*y\n",
    "x3 = 3"
   ]
  },
  {
   "cell_type": "markdown",
   "metadata": {},
   "source": [
    "$$\n",
    "\\frac{dy}{dx} = 2y/x\n",
    "$$"
   ]
  },
  {
   "cell_type": "code",
   "execution_count": 44,
   "metadata": {},
   "outputs": [],
   "source": [
    "f4 = lambda x,y : (2*y / x)\n",
    "x4 = 2"
   ]
  },
  {
   "cell_type": "code",
   "execution_count": 45,
   "metadata": {},
   "outputs": [],
   "source": [
    "def euler_method(f ,X ,x_0 ,y_0 ,h ):\n",
    "    x_i = x_0\n",
    "    y_i = y_0\n",
    "    n = int ((X - x_0)/h)\n",
    "    for i in range(n):\n",
    "        y_i += h*f(x_i ,y_i)\n",
    "        x_i += h\n",
    "    \n",
    "    y = y_i\n",
    "    return y   "
   ]
  },
  {
   "cell_type": "code",
   "execution_count": 46,
   "metadata": {},
   "outputs": [
    {
     "name": "stdout",
     "output_type": "stream",
     "text": [
      "Exact solution for y3 is 195729609428.83878\n",
      "y3_x3 for h = 0.01 is  25468220461.747562\n",
      "y3_x3 for h = 0.2 is 82647.9958816217\n",
      "y3_x3 for h = 0.5 is 794.3359375\n",
      "y3_x3 for h = 0.1 is  3995849.6117743105\n"
     ]
    }
   ],
   "source": [
    "print(\"Exact solution for y3 is\",195729609428.8387642697763978761)\n",
    "print(\"y3_x3 for h = 0.01 is \",euler_method(f3 ,x3 ,1 ,1 ,0.01))\n",
    "print(\"y3_x3 for h = 0.2 is\",euler_method(f3 ,x3 ,1 ,1 ,0.2))\n",
    "print(\"y3_x3 for h = 0.5 is\",euler_method(f3 ,x3 ,1 ,1 ,0.5))\n",
    "print(\"y3_x3 for h = 0.1 is \",euler_method(f3 ,x3 ,1 ,1 ,0.1))"
   ]
  },
  {
   "cell_type": "code",
   "execution_count": 47,
   "metadata": {},
   "outputs": [
    {
     "name": "stdout",
     "output_type": "stream",
     "text": [
      "y4_x4 =  7.636363636363635\n"
     ]
    }
   ],
   "source": [
    "print(\"y4_x4 = \",euler_method(f4 ,x4 ,1 ,2 ,0.1))"
   ]
  }
 ],
 "metadata": {
  "kernelspec": {
   "display_name": "Python 3",
   "language": "python",
   "name": "python3"
  },
  "language_info": {
   "codemirror_mode": {
    "name": "ipython",
    "version": 3
   },
   "file_extension": ".py",
   "mimetype": "text/x-python",
   "name": "python",
   "nbconvert_exporter": "python",
   "pygments_lexer": "ipython3",
   "version": "3.13.1"
  }
 },
 "nbformat": 4,
 "nbformat_minor": 2
}
