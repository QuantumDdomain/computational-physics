{
 "cells": [
  {
   "cell_type": "code",
   "execution_count": 1,
   "metadata": {},
   "outputs": [],
   "source": [
    "import numpy as np"
   ]
  },
  {
   "cell_type": "code",
   "execution_count": 2,
   "metadata": {},
   "outputs": [],
   "source": [
    "def gauss_seidel(x,y,z,tol = 1e-6):\n",
    "\n",
    "    while True :\n",
    "        a = (3 + y - z)/4\n",
    "        b = (1 + z - 2*a)/5\n",
    "        c = (2 + a - b)/4\n",
    "\n",
    "        if abs(a - x) < tol and abs(b - y) < tol and abs(c - z) < tol:\n",
    "            break\n",
    "        \n",
    "        x, y, z = a, b, c \n",
    "\n",
    "    return x,y,z"
   ]
  },
  {
   "cell_type": "code",
   "execution_count": 3,
   "metadata": {},
   "outputs": [
    {
     "name": "stdout",
     "output_type": "stream",
     "text": [
      "\n",
      "0.6122455911853857\n",
      "\n",
      "0.08163216647220928\n",
      "\n",
      "0.6326533561782941\n"
     ]
    }
   ],
   "source": [
    "P,Q,R = gauss_seidel(x = 0,y = 0,z = 0)\n",
    "\n",
    "print( )\n",
    "print(P)\n",
    "print( )\n",
    "print(Q)\n",
    "print( )\n",
    "print(R)"
   ]
  },
  {
   "cell_type": "code",
   "execution_count": null,
   "metadata": {},
   "outputs": [],
   "source": []
  }
 ],
 "metadata": {
  "kernelspec": {
   "display_name": "Python 3",
   "language": "python",
   "name": "python3"
  },
  "language_info": {
   "codemirror_mode": {
    "name": "ipython",
    "version": 3
   },
   "file_extension": ".py",
   "mimetype": "text/x-python",
   "name": "python",
   "nbconvert_exporter": "python",
   "pygments_lexer": "ipython3",
   "version": "3.13.1"
  }
 },
 "nbformat": 4,
 "nbformat_minor": 2
}
