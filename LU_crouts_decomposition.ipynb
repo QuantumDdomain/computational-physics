{
 "cells": [
  {
   "cell_type": "code",
   "execution_count": 14,
   "metadata": {},
   "outputs": [],
   "source": [
    "import numpy as np"
   ]
  },
  {
   "cell_type": "code",
   "execution_count": 15,
   "metadata": {},
   "outputs": [],
   "source": [
    "def crout(A):\n",
    "    n = len(A)\n",
    "    L = [[0.0] * n for _ in range(n)]\n",
    "    U = [[0.0] * n for _ in range(n)]\n",
    "\n",
    "    for k in range(n):\n",
    "        for i in range(k, n):\n",
    "            sum_L = sum(L[i][s] * U[s][k] for s in range(k))\n",
    "            L[i][k] = A[i][k] - sum_L\n",
    "\n",
    "        for j in range(k+1, n):\n",
    "            sum_U = sum(L[k][s] * U[s][j] for s in range(k))\n",
    "            U[k][j] = (A[k][j] - sum_U) / L[k][k]\n",
    "\n",
    "        U[k][k] = 1\n",
    "\n",
    "    print(\"L Matrix:\")\n",
    "    for row in L:\n",
    "        print(row)\n",
    "    \n",
    "    print(\"\\nU Matrix:\")\n",
    "    for row in U:\n",
    "        print(row)\n",
    "    \n",
    "    return L, U\n",
    "\n"
   ]
  },
  {
   "cell_type": "code",
   "execution_count": 16,
   "metadata": {},
   "outputs": [],
   "source": [
    "def fwd_sub(L, b):\n",
    "    n = len(L)\n",
    "    y = [0.0] * n\n",
    "    for i in range(n):\n",
    "        sum = 0\n",
    "        for j in range(i):\n",
    "            sum += L[i][j] * y[j]\n",
    "        y[i] = (b[i] - sum) / L[i][i]\n",
    "    return y"
   ]
  },
  {
   "cell_type": "code",
   "execution_count": 17,
   "metadata": {},
   "outputs": [],
   "source": [
    "def back_sub(U, y):\n",
    "    n = len(U)\n",
    "    x = [0.0] * n\n",
    "    for i in range(n-1, -1, -1):\n",
    "        sum = 0\n",
    "        for j in range(i+1, n):\n",
    "            sum += U[i][j] * x[j]\n",
    "        x[i] = (y[i] - sum) / U[i][i]\n",
    "    return x"
   ]
  },
  {
   "cell_type": "code",
   "execution_count": 18,
   "metadata": {},
   "outputs": [
    {
     "name": "stdout",
     "output_type": "stream",
     "text": [
      "L Matrix:\n",
      "[1, 0.0, 0.0]\n",
      "[4, -1.0, 0.0]\n",
      "[3, 2.0, -10.0]\n",
      "\n",
      "U Matrix:\n",
      "[1, 1.0, 1.0]\n",
      "[0.0, 1, 5.0]\n",
      "[0.0, 0.0, 1]\n",
      "Solution: \n",
      "\n",
      "x1 = 1.0\n",
      "x2 = 0.5\n",
      "x3 = -0.5\n"
     ]
    }
   ],
   "source": [
    "# Implementing the code\n",
    "A = [[1, 1, 1],\n",
    "     [4, 3, -1],\n",
    "     [3, 5, 3]]\n",
    "\n",
    "b = [1, 6, 4]\n",
    "\n",
    "L, U = crout(A)\n",
    "y = fwd_sub(L, b)\n",
    "x = back_sub(U, y)\n",
    "\n",
    "print(\"Solution: \\n\")\n",
    "for i, val in enumerate(x):\n",
    "    print(f\"x{i+1} = {val:}\")\n"
   ]
  },
  {
   "cell_type": "code",
   "execution_count": null,
   "metadata": {},
   "outputs": [],
   "source": []
  }
 ],
 "metadata": {
  "kernelspec": {
   "display_name": "myenv",
   "language": "python",
   "name": "python3"
  },
  "language_info": {
   "codemirror_mode": {
    "name": "ipython",
    "version": 3
   },
   "file_extension": ".py",
   "mimetype": "text/x-python",
   "name": "python",
   "nbconvert_exporter": "python",
   "pygments_lexer": "ipython3",
   "version": "3.13.1"
  }
 },
 "nbformat": 4,
 "nbformat_minor": 2
}
