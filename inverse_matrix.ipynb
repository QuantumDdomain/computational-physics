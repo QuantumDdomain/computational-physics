{
 "cells": [
  {
   "cell_type": "code",
   "execution_count": 2,
   "metadata": {},
   "outputs": [
    {
     "name": "stdout",
     "output_type": "stream",
     "text": [
      "[[-0.375 -0.125  0.625]\n",
      " [-0.125  0.625 -0.125]\n",
      " [ 0.625 -0.125 -0.375]]\n"
     ]
    }
   ],
   "source": [
    "import numpy as np\n",
    "\n",
    "def inverse_matrix(A) :\n",
    "\n",
    "    n= len(A)\n",
    "    B = np.identity(n)\n",
    "    \n",
    "    n = len(A)\n",
    "    # Forward elimination\n",
    "    for i in range(n):\n",
    "        for j in range(i + 1, n):\n",
    "            factor = A[j, i] / A[i, i]\n",
    "            A[j, i:] -= factor * A[i, i:]\n",
    "            B[j] -= factor * B[i]\n",
    "\n",
    "    # RREF\n",
    "  \n",
    "    for j in range (n):\n",
    "        for i in range (j+1,n):\n",
    "            scale_factor_2 = A[j][i]/A[i][i]\n",
    "            A[j] =A[j] - ((A[i])*scale_factor_2) \n",
    "            B[j] =B[j] - ((B[i])*scale_factor_2)\n",
    "    \n",
    "    for i in range (n):\n",
    "\n",
    "        B[i] = B[i]/A[i][i]\n",
    "        A[i][i] = 1.0\n",
    "\n",
    "    return B   \n",
    "\n",
    "\n",
    "\n",
    "\n",
    "A = np.array([\n",
    "    [2, 1, 3],\n",
    "    [1,  2, 1],\n",
    "    [3, 1, 2]\n",
    "], dtype=float)\n",
    "\n",
    "solution = inverse_matrix(A)\n",
    "\n",
    "print(solution)"
   ]
  },
  {
   "cell_type": "code",
   "execution_count": null,
   "metadata": {},
   "outputs": [],
   "source": []
  }
 ],
 "metadata": {
  "kernelspec": {
   "display_name": "myenv",
   "language": "python",
   "name": "python3"
  },
  "language_info": {
   "codemirror_mode": {
    "name": "ipython",
    "version": 3
   },
   "file_extension": ".py",
   "mimetype": "text/x-python",
   "name": "python",
   "nbconvert_exporter": "python",
   "pygments_lexer": "ipython3",
   "version": "3.13.1"
  }
 },
 "nbformat": 4,
 "nbformat_minor": 2
}
