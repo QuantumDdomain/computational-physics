{
 "cells": [
  {
   "cell_type": "code",
   "execution_count": 11,
   "metadata": {},
   "outputs": [],
   "source": [
    "# LU Decomposition function\n",
    "def lu_decomposition(A):\n",
    "    n = len(A)\n",
    "    L = [[0.0] * n for _ in range(n)]\n",
    "    U = [[0.0] * n for _ in range(n)]\n",
    "\n",
    "    for i in range(n):\n",
    "        # Calculate upper matrix U\n",
    "        for k in range(i, n):\n",
    "            sum = 0\n",
    "            for j in range(i):\n",
    "                sum += L[i][j] * U[j][k]\n",
    "            U[i][k] = A[i][k] - sum\n",
    "        \n",
    "        # Calculate lower matrix L\n",
    "        for k in range(i, n):\n",
    "            if i == k:\n",
    "                L[i][i] = 1\n",
    "            else:\n",
    "                sum = 0\n",
    "                for j in range(i):\n",
    "                    sum += L[k][j] * U[j][i]\n",
    "                L[k][i] = (A[k][i] - sum) / U[i][i]\n",
    "    \n",
    "    return L, U\n",
    "\n",
    "def fwd_sub(L, b):\n",
    "    n = len(L)\n",
    "    y = [0.0] * n\n",
    "    for i in range(n):\n",
    "        sum = 0\n",
    "        for j in range(i):\n",
    "            sum += L[i][j] * y[j]\n",
    "        y[i] = (b[i] - sum) / L[i][i]\n",
    "    return y\n",
    "\n",
    "def back_sub(U, y):\n",
    "    n = len(U)\n",
    "    x = [0.0] * n\n",
    "    for i in range(n-1, -1, -1):\n",
    "        sum = 0\n",
    "        for j in range(i+1, n):\n",
    "            sum += U[i][j] * x[j]\n",
    "        x[i] = (y[i] - sum) / U[i][i]\n",
    "    return x\n"
   ]
  },
  {
   "cell_type": "code",
   "execution_count": null,
   "metadata": {},
   "outputs": [
    {
     "name": "stdout",
     "output_type": "stream",
     "text": [
      "Solution: \n",
      "\n",
      "x1 = 1.0\n",
      "x2 = 0.5\n",
      "x3 = -0.5\n"
     ]
    }
   ],
   "source": [
    "# Implementing the code\n",
    "A = [[1, 1, 1],\n",
    "     [4, 3, -1],\n",
    "     [3, 5, 3]]\n",
    "\n",
    "b = [1, 6, 4]\n",
    "\n",
    "L, U = lu_decomposition(A)\n",
    "y = fwd_sub(L, b)\n",
    "x = back_sub(U, y)\n",
    "\n",
    "print(\"Solution: \\n\")\n",
    "for i, val in enumerate(x):\n",
    "    print(f\"x{i+1} = {val:}\")\n"
   ]
  },
  {
   "cell_type": "code",
   "execution_count": 13,
   "metadata": {},
   "outputs": [
    {
     "name": "stdout",
     "output_type": "stream",
     "text": [
      "Solution: \n",
      "\n",
      "x = 1.0\n",
      "y = 0.5\n",
      "z = -0.5\n"
     ]
    }
   ],
   "source": [
    "# Implementing the function\n",
    "A = [[1, 1, 1],\n",
    "    [4, 3, -1],\n",
    "    [3, 5, 3]]\n",
    "\n",
    "b = [1, 6, 4]\n",
    "\n",
    "L, U = lu_decomposition(A)\n",
    "\n",
    "y = forward_substitution(L, b)\n",
    "\n",
    "x = backward_substitution(U, y)\n",
    "\n",
    "print(\"Solution: \\n\")\n",
    "print(f\"x = {x[0]:}\")\n",
    "print(f\"y = {x[1]:}\")\n",
    "print(f\"z = {x[2]:}\")"
   ]
  },
  {
   "cell_type": "code",
   "execution_count": null,
   "metadata": {},
   "outputs": [],
   "source": []
  }
 ],
 "metadata": {
  "kernelspec": {
   "display_name": "myenv",
   "language": "python",
   "name": "python3"
  },
  "language_info": {
   "codemirror_mode": {
    "name": "ipython",
    "version": 3
   },
   "file_extension": ".py",
   "mimetype": "text/x-python",
   "name": "python",
   "nbconvert_exporter": "python",
   "pygments_lexer": "ipython3",
   "version": "3.13.1"
  }
 },
 "nbformat": 4,
 "nbformat_minor": 2
}
