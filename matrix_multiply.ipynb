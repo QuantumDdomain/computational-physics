{
 "cells": [
  {
   "cell_type": "code",
   "execution_count": 13,
   "metadata": {},
   "outputs": [],
   "source": [
    "import numpy as np\n",
    "\n",
    "def matrix_multiply(A,B):\n",
    "\n",
    "    rows_1 , columns_1 = A.shape\n",
    "    rows_2 , columns_2 = B.shape\n",
    "\n",
    "    if (rows_2 != columns_1):\n",
    "        print(\"matrix multiplication is not possible\")\n",
    "        return\n",
    "\n",
    "    C = np.zeros((rows_1,columns_2))\n",
    "    \n",
    "    for i in range(rows_1):\n",
    "        for j in range(columns_2):\n",
    "            sum = 0 \n",
    "            for q in range(columns_1):\n",
    "\n",
    "                sum +=  (A[i][q])*(B[q][j])\n",
    "            \n",
    "            C[i][j] = sum\n",
    "    return C        \n"
   ]
  },
  {
   "cell_type": "code",
   "execution_count": 14,
   "metadata": {},
   "outputs": [],
   "source": [
    "A = np.array([\n",
    "    [2, 1, 1],\n",
    "    [3,  2, 3],\n",
    "], dtype=float)\n",
    "\n",
    "B = np.array([\n",
    "    [2, 1],\n",
    "    [3,  2],[1, 4]\n",
    "], dtype=float)"
   ]
  },
  {
   "cell_type": "code",
   "execution_count": 15,
   "metadata": {},
   "outputs": [
    {
     "name": "stdout",
     "output_type": "stream",
     "text": [
      "[[ 8.  8.]\n",
      " [15. 19.]]\n"
     ]
    }
   ],
   "source": [
    "C= matrix_multiply(A,B)\n",
    "\n",
    "print(C)"
   ]
  }
 ],
 "metadata": {
  "kernelspec": {
   "display_name": "myenv",
   "language": "python",
   "name": "python3"
  },
  "language_info": {
   "codemirror_mode": {
    "name": "ipython",
    "version": 3
   },
   "file_extension": ".py",
   "mimetype": "text/x-python",
   "name": "python",
   "nbconvert_exporter": "python",
   "pygments_lexer": "ipython3",
   "version": "3.13.1"
  }
 },
 "nbformat": 4,
 "nbformat_minor": 2
}
