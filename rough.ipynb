{
 "cells": [
  {
   "cell_type": "code",
   "execution_count": 1,
   "metadata": {},
   "outputs": [
    {
     "name": "stdout",
     "output_type": "stream",
     "text": [
      "Characteristic Polynomial Coefficients: [ 1. 10. -7.]\n",
      "Eigenvalue found: 1.5224077499357613\n"
     ]
    }
   ],
   "source": [
    "import numpy as np\n",
    "\n",
    "A = np.array([[4, 1], [2, 3]])\n",
    "\n",
    "def my_trace(A):\n",
    "    return sum(A[i][i] for i in range(len(A)))\n",
    "\n",
    "def fadeev(B):\n",
    "    A = B\n",
    "    n = len(A)\n",
    "    I = np.identity(n)\n",
    "    alpha = np.zeros(n + 1)\n",
    "    alpha[0] = 1\n",
    "    c_k = A.copy()\n",
    "\n",
    "    for i in range(1, n + 1):\n",
    "        alpha[n - i + 1] = -my_trace(c_k) / i\n",
    "        c_k = np.dot(A, c_k) + alpha[n - i + 1] * np.dot(A, I)\n",
    "\n",
    "    def poly_fn(x):\n",
    "        return sum(alpha[i] * x**i for i in range(n + 1))\n",
    "    \n",
    "    print(\"Characteristic Polynomial Coefficients:\", alpha)\n",
    "    return poly_fn\n",
    "\n",
    "f = fadeev(A)\n",
    "\n",
    "def secant_method(fn, x0, x1):\n",
    "    iterations = 0\n",
    "    tol = 1e-6\n",
    "    while True:\n",
    "        fx0 = fn(x0)\n",
    "        fx1 = fn(x1)\n",
    "        x_temp = x1 - fx1 * (x1 - x0) / (fx1 - fx0)\n",
    "        x0, x1 = x1, x_temp\n",
    "        iterations += 1\n",
    "        if abs((x1 - x0) / x1) < tol:\n",
    "            break\n",
    "    return x1\n",
    "\n",
    "solution = secant_method(f, 3, 6)\n",
    "print(\"Eigenvalue found:\", solution)\n"
   ]
  },
  {
   "cell_type": "code",
   "execution_count": null,
   "id": "099a5f15",
   "metadata": {},
   "outputs": [],
   "source": []
  }
 ],
 "metadata": {
  "kernelspec": {
   "display_name": "Python 3",
   "language": "python",
   "name": "python3"
  },
  "language_info": {
   "codemirror_mode": {
    "name": "ipython",
    "version": 3
   },
   "file_extension": ".py",
   "mimetype": "text/x-python",
   "name": "python",
   "nbconvert_exporter": "python",
   "pygments_lexer": "ipython3",
   "version": "3.13.1"
  }
 },
 "nbformat": 4,
 "nbformat_minor": 5
}
