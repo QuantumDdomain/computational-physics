{
 "cells": [
  {
   "cell_type": "code",
   "execution_count": 9,
   "metadata": {},
   "outputs": [
    {
     "name": "stdout",
     "output_type": "stream",
     "text": [
      "[ 0.       0.4621  -0.05975  0.01576]\n"
     ]
    }
   ],
   "source": [
    "import numpy as np\n",
    "\n",
    "X = np.array([1 , 4, 5, 6])\n",
    "Y = np.array([0 , 1.3863 , 1.6094,1.7918])\n",
    "\n",
    "def iii_order_polynomial(X ,Y , x):\n",
    "    n = len(X)\n",
    "    b = np.zeros(n)\n",
    "\n",
    "    temp = 1\n",
    "    b[0] = Y[0]\n",
    "    for i in range(1,n):\n",
    "        add = b[0]\n",
    "        for j in range(i):\n",
    "            prd = 1   \n",
    "            for k in range(j):\n",
    "                prd *= (X[i] - X[k])\n",
    "                if (k == 0 and (j == i - 1)) :\n",
    "                    temp = prd\n",
    "            prd *= b[j] \n",
    "            add += prd\n",
    "        b[i] = (Y[i] - add)/(temp * (X[i] - X[j]))\n",
    "    return b\n",
    "\n",
    "    add = b[0]\n",
    "    for i in range(1,n):\n",
    "        prd = 1\n",
    "        if i!= 0 :\n",
    "            for j in range (i):\n",
    "                prd *= (x - X[j]) \n",
    "            prd *= b[i]\n",
    "        add += prd    \n",
    "    \n",
    "    y = add\n",
    "\n",
    "    #return y\n",
    "\n",
    "x = 2\n",
    "solution = iii_order_polynomial(X ,Y , x)\n",
    "print (solution)"
   ]
  },
  {
   "cell_type": "code",
   "execution_count": null,
   "metadata": {},
   "outputs": [],
   "source": []
  }
 ],
 "metadata": {
  "kernelspec": {
   "display_name": "Python 3",
   "language": "python",
   "name": "python3"
  },
  "language_info": {
   "codemirror_mode": {
    "name": "ipython",
    "version": 3
   },
   "file_extension": ".py",
   "mimetype": "text/x-python",
   "name": "python",
   "nbconvert_exporter": "python",
   "pygments_lexer": "ipython3",
   "version": "3.13.1"
  }
 },
 "nbformat": 4,
 "nbformat_minor": 2
}
