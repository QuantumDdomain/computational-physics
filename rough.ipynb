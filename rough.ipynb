{
 "cells": [
  {
   "cell_type": "code",
   "execution_count": null,
   "metadata": {},
   "outputs": [
    {
     "name": "stdout",
     "output_type": "stream",
     "text": [
      "Characteristic Polynomial Coefficients: [ 1. 10. -7.]\n",
      "Eigenvalue found: 1.5224077499357613\n"
     ]
    }
   ],
   "source": [
    "        <p><strong>Interpolated Polynomial:</p>\n",
    "        <p><em></em><br>\\\\(P(x) = (${latexPoly}\\\\)</p>"
   ]
  },
  {
   "cell_type": "code",
   "execution_count": null,
   "id": "099a5f15",
   "metadata": {},
   "outputs": [],
   "source": []
  }
 ],
 "metadata": {
  "kernelspec": {
   "display_name": "Python 3",
   "language": "python",
   "name": "python3"
  },
  "language_info": {
   "codemirror_mode": {
    "name": "ipython",
    "version": 3
   },
   "file_extension": ".py",
   "mimetype": "text/x-python",
   "name": "python",
   "nbconvert_exporter": "python",
   "pygments_lexer": "ipython3",
   "version": "3.13.1"
  }
 },
 "nbformat": 4,
 "nbformat_minor": 5
}
