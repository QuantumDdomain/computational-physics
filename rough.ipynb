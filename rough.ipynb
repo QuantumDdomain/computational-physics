{
 "cells": [
  {
   "cell_type": "code",
   "execution_count": null,
   "metadata": {},
   "outputs": [
    {
     "ename": "",
     "evalue": "",
     "output_type": "error",
     "traceback": [
      "\u001b[1;31mRunning cells with 'Python 3.13.1' requires the ipykernel package.\n",
      "\u001b[1;31mRun the following command to install 'ipykernel' into the Python environment. \n",
      "\u001b[1;31mCommand: '\"c:/Program Files/Python313/python.exe\" -m pip install ipykernel -U --user --force-reinstall'"
     ]
    }
   ],
   "source": [
    "import numpy as np\n",
    "\n",
    "matrix = np.array([[6,-2],\n",
    "    [-2,6]])\n",
    "initial_V = np. array([[1],[6]])\n",
    "\n",
    "def transpose(A) :\n",
    "\n",
    "    m = len(A)\n",
    "    n = len(A[0])\n",
    "    B = np.zeros((n,m))\n",
    "\n",
    "    for i in range (m):\n",
    "        for j in range (n):\n",
    "            B[j][i] = A[i][j]\n",
    "\n",
    "    return B  \n",
    "\n",
    "def power_method(A ,V):\n",
    "\n",
    "    V_new = V/np.linalg.norm(V)\n",
    "\n",
    "    while True :\n",
    "        V_temp = V_new\n",
    "        V_new = np.dot(A,V_new)\n",
    "        V_new = V_new/np.linalg.norm(V_new)\n",
    "\n",
    "        if (np.linalg.norm(V_new - V_temp) < 1e-6) :\n",
    "            break\n",
    "    dominant_eigenvalue = np.matmul(transpose(V_new),np.matmul(A,V_new))/np.matmul(transpose(V_new),V_new)\n",
    "\n",
    "    return np.linalg.norm(dominant_eigenvalue),V_new\n",
    "\n",
    "eigenvalue ,eigenvector = power_method(matrix,initial_V)\n",
    "print (round(eigenvalue,3))\n",
    "print(eigenvector)"
   ]
  },
  {
   "cell_type": "code",
   "execution_count": null,
   "metadata": {},
   "outputs": [],
   "source": []
  }
 ],
 "metadata": {
  "kernelspec": {
   "display_name": "Python 3",
   "language": "python",
   "name": "python3"
  },
  "language_info": {
   "name": "python",
   "version": "3.13.1"
  }
 },
 "nbformat": 4,
 "nbformat_minor": 2
}
