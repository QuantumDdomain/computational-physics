{
 "cells": [
  {
   "cell_type": "code",
   "execution_count": 1,
   "metadata": {},
   "outputs": [],
   "source": [
    "import numpy as np"
   ]
  },
  {
   "cell_type": "code",
   "execution_count": 2,
   "metadata": {},
   "outputs": [
    {
     "name": "stdout",
     "output_type": "stream",
     "text": [
      "Solution: [4.99999975 4.99999956 4.99999953 4.99999962]\n"
     ]
    }
   ],
   "source": [
    "import numpy as np\n",
    "\n",
    "def gauss_seidel(A, B, tol=1e-6, max_iterations=1000):\n",
    "    n = len(A)\n",
    "    X = np.zeros(n)\n",
    "    \n",
    "    for _ in range(max_iterations):\n",
    "        X_new = np.copy(X)\n",
    "        \n",
    "        for i in range(n):\n",
    "            sum_ = B[i]\n",
    "            for j in range(n):\n",
    "                if j != i:\n",
    "                    sum_ -= A[i][j] * X[j]\n",
    "            \n",
    "            X_new[i] = sum_ / A[i][i]\n",
    "        \n",
    "        if np.linalg.norm(X_new - X, ord=np.inf) < tol:\n",
    "            return X_new\n",
    "        \n",
    "        X = np.copy(X_new)\n",
    "    \n",
    "    print(\"Gauss-Seidel did not converge within the maximum number of iterations.\")\n",
    "    return X_new\n",
    "\n",
    "A = np.array([[4, -1, 0, 0],\n",
    "              [-1, 4, -1, 0],\n",
    "              [0, -1, 4, -1],\n",
    "              [0, 0, -1, 3]], dtype=float)\n",
    "\n",
    "B = np.array([15, 10, 10, 10], dtype=float)\n",
    "\n",
    "solution = gauss_seidel(A, B)\n",
    "print(\"Solution:\", solution)\n"
   ]
  }
 ],
 "metadata": {
  "kernelspec": {
   "display_name": "Python 3",
   "language": "python",
   "name": "python3"
  },
  "language_info": {
   "codemirror_mode": {
    "name": "ipython",
    "version": 3
   },
   "file_extension": ".py",
   "mimetype": "text/x-python",
   "name": "python",
   "nbconvert_exporter": "python",
   "pygments_lexer": "ipython3",
   "version": "3.13.1"
  }
 },
 "nbformat": 4,
 "nbformat_minor": 2
}
