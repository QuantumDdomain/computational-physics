{
 "cells": [
  {
   "cell_type": "code",
   "execution_count": 4,
   "metadata": {},
   "outputs": [],
   "source": [
    "import math"
   ]
  },
  {
   "cell_type": "code",
   "execution_count": 5,
   "metadata": {},
   "outputs": [],
   "source": [
    "f = lambda x: math.sin(x)"
   ]
  },
  {
   "cell_type": "code",
   "execution_count": 6,
   "metadata": {},
   "outputs": [],
   "source": [
    "def trapezoidal_rule(X_N ,X_0 ,N ,fn ):\n",
    "    h = (X_N -X_0)/N\n",
    "    sum = 0 \n",
    "    for i in range(N):\n",
    "        sum += ((fn(X_0 + i*h) + fn(X_0 + (i+1)*h))*h)/2\n",
    "    return sum    "
   ]
  },
  {
   "cell_type": "code",
   "execution_count": 7,
   "metadata": {},
   "outputs": [
    {
     "name": "stdout",
     "output_type": "stream",
     "text": [
      "1.9236706937217898e-16\n"
     ]
    }
   ],
   "source": [
    "X_N =input()\n",
    "if X_N == 'pi':\n",
    "    X_N = math.pi\n",
    "else:\n",
    "    X_N = float(X_N)\n",
    "    \n",
    "X_0 =float(input())\n",
    "N =int(input())\n",
    "integral = trapezoidal_rule(X_N, X_0 , N, f)\n",
    "print(integral)"
   ]
  }
 ],
 "metadata": {
  "kernelspec": {
   "display_name": "Python 3",
   "language": "python",
   "name": "python3"
  },
  "language_info": {
   "codemirror_mode": {
    "name": "ipython",
    "version": 3
   },
   "file_extension": ".py",
   "mimetype": "text/x-python",
   "name": "python",
   "nbconvert_exporter": "python",
   "pygments_lexer": "ipython3",
   "version": "3.13.1"
  }
 },
 "nbformat": 4,
 "nbformat_minor": 2
}
